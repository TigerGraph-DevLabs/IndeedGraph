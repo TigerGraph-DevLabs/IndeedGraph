{
  "nbformat": 4,
  "nbformat_minor": 2,
  "metadata": {
    "colab": {
      "name": "Find your Next Job with TigerGraph.ipynb",
      "provenance": []
    },
    "kernelspec": {
      "name": "python3",
      "display_name": "Python 3"
    },
    "language_info": {
      "name": "python"
    }
  },
  "cells": [
    {
      "cell_type": "markdown",
      "source": [
        "# Find your Next Job with TigerGraph"
      ],
      "metadata": {
        "id": "ueOxoo2wjCTo"
      }
    },
    {
      "cell_type": "markdown",
      "source": [
        "## Create your TigerGraph Graph"
      ],
      "metadata": {
        "id": "U4WA5gxw37V7"
      }
    },
    {
      "cell_type": "markdown",
      "source": [
        "### Graph"
      ],
      "metadata": {
        "id": "9w0WWeqH5WQH"
      }
    },
    {
      "cell_type": "code",
      "execution_count": null,
      "source": [
        "!pip install pyTigerGraph"
      ],
      "outputs": [
        {
          "output_type": "stream",
          "name": "stdout",
          "text": [
            "Collecting pyTigerGraph\n",
            "  Downloading pyTigerGraph-0.0.9.7.1-py3-none-any.whl (22 kB)\n",
            "Requirement already satisfied: pandas in /usr/local/lib/python3.7/dist-packages (from pyTigerGraph) (1.1.5)\n",
            "Collecting pyTigerDriver==1.0.13\n",
            "  Downloading pyTigerDriver-1.0.13-py3-none-any.whl (9.7 kB)\n",
            "Requirement already satisfied: requests in /usr/local/lib/python3.7/dist-packages (from pyTigerGraph) (2.23.0)\n",
            "Collecting validators\n",
            "  Downloading validators-0.18.2-py3-none-any.whl (19 kB)\n",
            "Requirement already satisfied: pytz>=2017.2 in /usr/local/lib/python3.7/dist-packages (from pandas->pyTigerGraph) (2018.9)\n",
            "Requirement already satisfied: numpy>=1.15.4 in /usr/local/lib/python3.7/dist-packages (from pandas->pyTigerGraph) (1.19.5)\n",
            "Requirement already satisfied: python-dateutil>=2.7.3 in /usr/local/lib/python3.7/dist-packages (from pandas->pyTigerGraph) (2.8.1)\n",
            "Requirement already satisfied: six>=1.5 in /usr/local/lib/python3.7/dist-packages (from python-dateutil>=2.7.3->pandas->pyTigerGraph) (1.15.0)\n",
            "Requirement already satisfied: certifi>=2017.4.17 in /usr/local/lib/python3.7/dist-packages (from requests->pyTigerGraph) (2021.5.30)\n",
            "Requirement already satisfied: chardet<4,>=3.0.2 in /usr/local/lib/python3.7/dist-packages (from requests->pyTigerGraph) (3.0.4)\n",
            "Requirement already satisfied: urllib3!=1.25.0,!=1.25.1,<1.26,>=1.21.1 in /usr/local/lib/python3.7/dist-packages (from requests->pyTigerGraph) (1.24.3)\n",
            "Requirement already satisfied: idna<3,>=2.5 in /usr/local/lib/python3.7/dist-packages (from requests->pyTigerGraph) (2.10)\n",
            "Requirement already satisfied: decorator>=3.4.0 in /usr/local/lib/python3.7/dist-packages (from validators->pyTigerGraph) (4.4.2)\n",
            "Installing collected packages: validators, pyTigerDriver, pyTigerGraph\n",
            "Successfully installed pyTigerDriver-1.0.13 pyTigerGraph-0.0.9.7.1 validators-0.18.2\n"
          ]
        }
      ],
      "metadata": {
        "colab": {
          "base_uri": "https://localhost:8080/"
        },
        "id": "UeLxK_VM4Jgw",
        "outputId": "dff3513c-f05d-4205-e4cc-f2aef7baa914"
      }
    },
    {
      "cell_type": "code",
      "execution_count": null,
      "source": [
        "import pyTigerGraph as tg \n",
        "\n",
        "conn = tg.TigerGraphConnection(host=\"https://SUBDOMAIN.i.tgcloud.io/\", password=\"PASSWORD\")"
      ],
      "outputs": [],
      "metadata": {
        "id": "iRh-lmAw4K_Y"
      }
    },
    {
      "cell_type": "code",
      "execution_count": null,
      "source": [
        "# NOTE: ONLY UNCOMMENT FOR EMERGENCIES!! IT WILL DELETE EVERYTHING FROM YOUR GRAPH!\n",
        "\n",
        "# print(conn.gsql('''DROP ALL'''))"
      ],
      "outputs": [
        {
          "output_type": "stream",
          "name": "stdout",
          "text": [
            "Dropping all, about 1 minute ...\n",
            "Abort all active loading jobs\n",
            "Try to abort all loading jobs on graph LegoGraph, it may take a while ...\n",
            "[ABORT_SUCCESS] No active Loading Job to abort.\n",
            "Resetting GPE...\n",
            "Successfully reset GPE\n",
            "Stopping GPE GSE\n",
            "Successfully stopped GPE GSE in 7.410 seconds\n",
            "Clearing graph store...\n",
            "Successfully cleared graph store\n",
            "Starting GPE GSE RESTPP\n",
            "Successfully started GPE GSE RESTPP in 0.094 seconds\n",
            "Everything is dropped.\n"
          ]
        }
      ],
      "metadata": {
        "colab": {
          "base_uri": "https://localhost:8080/"
        },
        "id": "KstPlN7F4pPx",
        "outputId": "c3c69be7-6dd2-47e2-86b7-715105576d05"
      }
    },
    {
      "cell_type": "code",
      "execution_count": null,
      "source": [
        "print(conn.gsql('''\n",
        "CREATE VERTEX Job_Option(PRIMARY_ID job_id INT, job_link STRING, num_skills INT, num_reviews DOUBLE, num_stars DOUBLE)\n",
        "CREATE VERTEX Job_Type(PRIMARY_ID job_type_id STRING) WITH PRIMARY_ID_AS_ATTRIBUTE=\"true\"\n",
        "CREATE VERTEX Job_Title(PRIMARY_ID job_title_id STRING) WITH PRIMARY_ID_AS_ATTRIBUTE=\"true\"\n",
        "CREATE VERTEX Salary_Range(PRIMARY_ID salary_range STRING) WITH PRIMARY_ID_AS_ATTRIBUTE=\"true\"\n",
        "CREATE VERTEX Company(PRIMARY_ID company_name STRING) WITH PRIMARY_ID_AS_ATTRIBUTE=\"true\"\n",
        "CREATE VERTEX Skill(PRIMARY_ID skill STRING) WITH PRIMARY_ID_AS_ATTRIBUTE=\"true\"\n",
        "\n",
        "CREATE UNDIRECTED EDGE JOB_OPTION_JOB_TYPE(FROM Job_Option, TO Job_Type)\n",
        "CREATE UNDIRECTED EDGE JOB_OPTION_JOB_TITLE(FROM Job_Option, TO Job_Title)\n",
        "CREATE UNDIRECTED EDGE JOB_TYPE_JOB_TITLE(FROM Job_Type, TO Job_Title)\n",
        "CREATE UNDIRECTED EDGE JOB_OPTION_SALARY_RANGE(FROM Job_Option, To Salary_Range)\n",
        "CREATE UNDIRECTED EDGE JOB_OPTION_COMPANY(FROM Job_Option, To Company)\n",
        "CREATE UNDIRECTED EDGE JOB_OPTION_SKILL(FROM Job_Option, To Skill)\n",
        "'''))"
      ],
      "outputs": [],
      "metadata": {
        "id": "Y14ssA-l4RhB"
      }
    },
    {
      "cell_type": "code",
      "execution_count": null,
      "source": [
        "print(conn.gsql('''\n",
        "CREATE GRAPH JobGraph(\n",
        "  Job_Option, Job_Type, Job_Title, Salary_Range, Company, Skill,\n",
        "  JOB_OPTION_JOB_TYPE, JOB_OPTION_JOB_TITLE, JOB_TYPE_JOB_TITLE, JOB_OPTION_SALARY_RANGE, JOB_OPTION_COMPANY, JOB_OPTION_SKILL\n",
        ")\n",
        "'''))"
      ],
      "outputs": [
        {
          "output_type": "stream",
          "name": "stdout",
          "text": [
            "The graph JobGraph is created.\n"
          ]
        }
      ],
      "metadata": {
        "colab": {
          "base_uri": "https://localhost:8080/"
        },
        "id": "9Q5qSJK44mQd",
        "outputId": "795e1e4d-cbb8-4477-f874-eb723b86da87"
      }
    },
    {
      "cell_type": "code",
      "execution_count": null,
      "source": [
        "conn.graphname = \"JobGraph\"\n",
        "conn.apiToken = conn.getToken(conn.createSecret())"
      ],
      "outputs": [],
      "metadata": {
        "id": "mkhKYWAE5Kt1"
      }
    },
    {
      "cell_type": "markdown",
      "source": [
        "### Grab Kaggle Data\n",
        "\n",
        "\n",
        "\n"
      ],
      "metadata": {
        "id": "jrmSG_bxD6qZ"
      }
    },
    {
      "cell_type": "code",
      "execution_count": null,
      "source": [
        "! pip install -q kaggle"
      ],
      "outputs": [],
      "metadata": {
        "id": "A7NDlz_aEQkC"
      }
    },
    {
      "cell_type": "markdown",
      "source": [
        "Go to your Settings, click Account, scroll down to API. \n",
        "\n",
        "**Press \"Expire\" then \"Create New Token\". It will download a kaggle.json; upload it to the selector below.**\n",
        "\n"
      ],
      "metadata": {
        "id": "ybcgIivqKI1V"
      }
    },
    {
      "cell_type": "code",
      "execution_count": null,
      "source": [
        "from google.colab import files\n",
        "\n",
        "files.upload()"
      ],
      "outputs": [
        {
          "output_type": "display_data",
          "data": {
            "text/html": [
              "\n",
              "     <input type=\"file\" id=\"files-6da7fb00-0731-446d-ada1-579df5ee9053\" name=\"files[]\" multiple disabled\n",
              "        style=\"border:none\" />\n",
              "     <output id=\"result-6da7fb00-0731-446d-ada1-579df5ee9053\">\n",
              "      Upload widget is only available when the cell has been executed in the\n",
              "      current browser session. Please rerun this cell to enable.\n",
              "      </output>\n",
              "      <script src=\"/nbextensions/google.colab/files.js\"></script> "
            ],
            "text/plain": [
              "<IPython.core.display.HTML object>"
            ]
          },
          "metadata": {
            "tags": []
          }
        },
        {
          "output_type": "stream",
          "name": "stdout",
          "text": [
            "Saving kaggle.json to kaggle.json\n"
          ]
        },
        {
          "output_type": "execute_result",
          "data": {
            "text/plain": [
              "{'kaggle.json': b'{\"username\":\"genericp3rson\",\"key\":\"17ef90b08777c6862bf7cb65191dae17\"}'}"
            ]
          },
          "metadata": {
            "tags": []
          },
          "execution_count": 6
        }
      ],
      "metadata": {
        "colab": {
          "resources": {
            "http://localhost:8080/nbextensions/google.colab/files.js": {
              "data": "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",
              "ok": true,
              "headers": [
                [
                  "content-type",
                  "application/javascript"
                ]
              ],
              "status": 200,
              "status_text": ""
            }
          },
          "base_uri": "https://localhost:8080/",
          "height": 89
        },
        "id": "Yu3-UPcuEQkD",
        "outputId": "81099e5f-874a-4692-f332-925f35306b20"
      }
    },
    {
      "cell_type": "code",
      "execution_count": null,
      "source": [
        "! mkdir ~/.kaggle\n",
        "\n",
        "! cp kaggle.json ~/.kaggle/\n",
        "\n",
        "! chmod 600 ~/.kaggle/kaggle.json\n",
        "\n",
        "! kaggle datasets list"
      ],
      "outputs": [
        {
          "output_type": "stream",
          "name": "stdout",
          "text": [
            "Warning: Looks like you're using an outdated API Version, please consider updating (server 1.5.12 / client 1.5.4)\n",
            "ref                                                         title                                              size  lastUpdated          downloadCount  \n",
            "----------------------------------------------------------  ------------------------------------------------  -----  -------------------  -------------  \n",
            "gpreda/reddit-vaccine-myths                                 Reddit Vaccine Myths                              234KB  2021-07-24 09:20:05           9826  \n",
            "crowww/a-large-scale-fish-dataset                           A Large Scale Fish Dataset                          3GB  2021-04-28 17:03:01           6049  \n",
            "imsparsh/musicnet-dataset                                   MusicNet Dataset                                   22GB  2021-02-18 14:12:19           2238  \n",
            "dhruvildave/wikibooks-dataset                               Wikibooks Dataset                                   2GB  2021-07-03 18:37:20           2494  \n",
            "fatiimaezzahra/famous-iconic-women                          Famous Iconic Women                               838MB  2021-02-28 14:56:00           1024  \n",
            "promptcloud/careerbuilder-job-listing-2020                  Careerbuilder Job Listing 2020                     42MB  2021-03-05 06:59:52           1451  \n",
            "nickuzmenkov/nih-chest-xrays-tfrecords                      NIH Chest X-rays TFRecords                         11GB  2021-03-09 04:49:23            829  \n",
            "alsgroup/end-als                                            End ALS Kaggle Challenge                           12GB  2021-04-08 12:16:37            807  \n",
            "coloradokb/dandelionimages                                  DandelionImages                                     4GB  2021-02-19 20:03:47            699  \n",
            "mathurinache/twitter-edge-nodes                             Twitter Edge Nodes                                342MB  2021-03-08 06:43:04            676  \n",
            "simiotic/github-code-snippets                               GitHub Code Snippets                                7GB  2021-03-03 11:34:39            238  \n",
            "mathurinache/the-lj-speech-dataset                          The LJ Speech Dataset                               3GB  2021-02-15 09:19:54            256  \n",
            "stuartjames/lights                                          LightS: Light Specularity Dataset                  18GB  2021-02-18 14:32:26            103  \n",
            "landrykezebou/lvzhdr-tone-mapping-benchmark-dataset-tmonet  LVZ-HDR Tone Mapping Benchmark Dataset (TMO-Net)   24GB  2021-03-01 05:03:40            163  \n",
            "imsparsh/accentdb-core-extended                             AccentDB - Core & Extended                          6GB  2021-02-17 14:22:54            120  \n",
            "nickuzmenkov/ranzcr-clip-kfold-tfrecords                    RANZCR CLiP KFold TFRecords                         2GB  2021-02-21 13:29:51            110  \n",
            "datasnaek/youtube-new                                       Trending YouTube Video Statistics                 201MB  2019-06-03 00:56:47         145367  \n",
            "zynicide/wine-reviews                                       Wine Reviews                                       51MB  2017-11-27 17:08:04         140891  \n",
            "residentmario/ramen-ratings                                 Ramen Ratings                                      40KB  2018-01-11 16:04:39          25233  \n",
            "datasnaek/chess                                             Chess Game Dataset (Lichess)                        3MB  2017-09-04 03:09:09          20221  \n"
          ]
        }
      ],
      "metadata": {
        "colab": {
          "base_uri": "https://localhost:8080/"
        },
        "id": "OAJMQLapEQkD",
        "outputId": "47335fe0-85f2-482b-e885-5754e72df167"
      }
    },
    {
      "cell_type": "code",
      "execution_count": null,
      "source": [
        "! kaggle datasets download -d elroyggj/indeed-dataset-data-scientistanalystengineer\n",
        "! unzip indeed-dataset-data-scientistanalystengineer.zip -d data\n",
        "! ls data"
      ],
      "outputs": [
        {
          "output_type": "stream",
          "name": "stdout",
          "text": [
            "Downloading indeed-dataset-data-scientistanalystengineer.zip to /content\n",
            "\r  0% 0.00/5.05M [00:00<?, ?B/s]\n",
            "\r100% 5.05M/5.05M [00:00<00:00, 46.5MB/s]\n",
            "Archive:  indeed-dataset-data-scientistanalystengineer.zip\n",
            "  inflating: train/dataset description.txt  \n",
            "  inflating: train/indeed_job_dataset.csv  \n",
            "'dataset description.txt'   indeed_job_dataset.csv\n"
          ]
        }
      ],
      "metadata": {
        "id": "f2bZnXbaEV_A",
        "colab": {
          "base_uri": "https://localhost:8080/"
        },
        "outputId": "cc3fa447-09cc-4a94-93b0-1405ec410768"
      }
    },
    {
      "cell_type": "markdown",
      "source": [
        "### Loading Data"
      ],
      "metadata": {
        "id": "EbxCDKQ55aE-"
      }
    },
    {
      "cell_type": "code",
      "execution_count": null,
      "source": [
        "import pandas as pd \n",
        "\n",
        "data = pd.read_csv(\"data/indeed_job_dataset.csv\") "
      ],
      "outputs": [],
      "metadata": {
        "id": "k-3eGH295gnY"
      }
    },
    {
      "cell_type": "code",
      "execution_count": null,
      "source": [
        "data.head()"
      ],
      "outputs": [
        {
          "output_type": "execute_result",
          "data": {
            "text/html": [
              "<div>\n",
              "<style scoped>\n",
              "    .dataframe tbody tr th:only-of-type {\n",
              "        vertical-align: middle;\n",
              "    }\n",
              "\n",
              "    .dataframe tbody tr th {\n",
              "        vertical-align: top;\n",
              "    }\n",
              "\n",
              "    .dataframe thead th {\n",
              "        text-align: right;\n",
              "    }\n",
              "</style>\n",
              "<table border=\"1\" class=\"dataframe\">\n",
              "  <thead>\n",
              "    <tr style=\"text-align: right;\">\n",
              "      <th></th>\n",
              "      <th>Unnamed: 0</th>\n",
              "      <th>Job_Title</th>\n",
              "      <th>Link</th>\n",
              "      <th>Queried_Salary</th>\n",
              "      <th>Job_Type</th>\n",
              "      <th>Skill</th>\n",
              "      <th>No_of_Skills</th>\n",
              "      <th>Company</th>\n",
              "      <th>No_of_Reviews</th>\n",
              "      <th>No_of_Stars</th>\n",
              "      <th>Date_Since_Posted</th>\n",
              "      <th>Description</th>\n",
              "      <th>Location</th>\n",
              "      <th>Company_Revenue</th>\n",
              "      <th>Company_Employees</th>\n",
              "      <th>Company_Industry</th>\n",
              "      <th>python</th>\n",
              "      <th>sql</th>\n",
              "      <th>machine learning</th>\n",
              "      <th>r</th>\n",
              "      <th>hadoop</th>\n",
              "      <th>tableau</th>\n",
              "      <th>sas</th>\n",
              "      <th>spark</th>\n",
              "      <th>java</th>\n",
              "      <th>Others</th>\n",
              "      <th>CA</th>\n",
              "      <th>NY</th>\n",
              "      <th>VA</th>\n",
              "      <th>TX</th>\n",
              "      <th>MA</th>\n",
              "      <th>IL</th>\n",
              "      <th>WA</th>\n",
              "      <th>MD</th>\n",
              "      <th>DC</th>\n",
              "      <th>NC</th>\n",
              "      <th>Other_states</th>\n",
              "      <th>Consulting and Business Services</th>\n",
              "      <th>Internet and Software</th>\n",
              "      <th>Banks and Financial Services</th>\n",
              "      <th>Health Care</th>\n",
              "      <th>Insurance</th>\n",
              "      <th>Other_industries</th>\n",
              "    </tr>\n",
              "  </thead>\n",
              "  <tbody>\n",
              "    <tr>\n",
              "      <th>0</th>\n",
              "      <td>0</td>\n",
              "      <td>Data Scientist</td>\n",
              "      <td>https://www.indeed.com/rc/clk?jk=6a105f495c36a...</td>\n",
              "      <td>&lt;80000</td>\n",
              "      <td>data_scientist</td>\n",
              "      <td>['SAP', 'SQL']</td>\n",
              "      <td>2</td>\n",
              "      <td>Express Scripts</td>\n",
              "      <td>3301.0</td>\n",
              "      <td>3.3</td>\n",
              "      <td>1.0</td>\n",
              "      <td>[&lt;p&gt;&lt;b&gt;POSITION SUMMARY&lt;/b&gt;&lt;/p&gt;, &lt;p&gt;\\r\\r\\nThe ...</td>\n",
              "      <td>MO</td>\n",
              "      <td>More than $10B (USD)</td>\n",
              "      <td>10,000+</td>\n",
              "      <td>Health Care</td>\n",
              "      <td>0</td>\n",
              "      <td>1</td>\n",
              "      <td>0</td>\n",
              "      <td>0</td>\n",
              "      <td>0</td>\n",
              "      <td>0</td>\n",
              "      <td>0</td>\n",
              "      <td>0</td>\n",
              "      <td>0</td>\n",
              "      <td>1</td>\n",
              "      <td>0</td>\n",
              "      <td>0</td>\n",
              "      <td>0</td>\n",
              "      <td>0</td>\n",
              "      <td>0</td>\n",
              "      <td>0</td>\n",
              "      <td>0</td>\n",
              "      <td>0</td>\n",
              "      <td>0</td>\n",
              "      <td>0</td>\n",
              "      <td>1</td>\n",
              "      <td>0</td>\n",
              "      <td>0</td>\n",
              "      <td>0</td>\n",
              "      <td>1</td>\n",
              "      <td>0</td>\n",
              "      <td>0</td>\n",
              "    </tr>\n",
              "    <tr>\n",
              "      <th>1</th>\n",
              "      <td>1</td>\n",
              "      <td>Data Scientist</td>\n",
              "      <td>https://www.indeed.com/rc/clk?jk=86afd561ea8c6...</td>\n",
              "      <td>&lt;80000</td>\n",
              "      <td>data_scientist</td>\n",
              "      <td>['Machine Learning', 'R', 'SAS', 'SQL', 'Python']</td>\n",
              "      <td>5</td>\n",
              "      <td>Money Mart Financial Services</td>\n",
              "      <td>NaN</td>\n",
              "      <td>NaN</td>\n",
              "      <td>15.0</td>\n",
              "      <td>[&lt;p&gt;&lt;b&gt;What do we need?&lt;/b&gt;&lt;/p&gt;, &lt;ul&gt;&lt;li&gt;\\r\\r\\...</td>\n",
              "      <td>TX</td>\n",
              "      <td>NaN</td>\n",
              "      <td>NaN</td>\n",
              "      <td>NaN</td>\n",
              "      <td>1</td>\n",
              "      <td>1</td>\n",
              "      <td>1</td>\n",
              "      <td>1</td>\n",
              "      <td>0</td>\n",
              "      <td>0</td>\n",
              "      <td>1</td>\n",
              "      <td>0</td>\n",
              "      <td>0</td>\n",
              "      <td>0</td>\n",
              "      <td>0</td>\n",
              "      <td>0</td>\n",
              "      <td>0</td>\n",
              "      <td>1</td>\n",
              "      <td>0</td>\n",
              "      <td>0</td>\n",
              "      <td>0</td>\n",
              "      <td>0</td>\n",
              "      <td>0</td>\n",
              "      <td>0</td>\n",
              "      <td>0</td>\n",
              "      <td>0</td>\n",
              "      <td>0</td>\n",
              "      <td>0</td>\n",
              "      <td>0</td>\n",
              "      <td>0</td>\n",
              "      <td>0</td>\n",
              "    </tr>\n",
              "    <tr>\n",
              "      <th>2</th>\n",
              "      <td>2</td>\n",
              "      <td>Data Scientist</td>\n",
              "      <td>https://www.indeed.com/rc/clk?jk=e0aad317e6d45...</td>\n",
              "      <td>&lt;80000</td>\n",
              "      <td>data_scientist</td>\n",
              "      <td>['Data Mining', 'Data Management', 'R', 'SAS',...</td>\n",
              "      <td>9</td>\n",
              "      <td>comScore</td>\n",
              "      <td>62.0</td>\n",
              "      <td>3.5</td>\n",
              "      <td>1.0</td>\n",
              "      <td>[&lt;ul&gt;&lt;li&gt;Validate, analyze, and conduct statis...</td>\n",
              "      <td>OR</td>\n",
              "      <td>NaN</td>\n",
              "      <td>NaN</td>\n",
              "      <td>NaN</td>\n",
              "      <td>1</td>\n",
              "      <td>1</td>\n",
              "      <td>0</td>\n",
              "      <td>1</td>\n",
              "      <td>0</td>\n",
              "      <td>0</td>\n",
              "      <td>1</td>\n",
              "      <td>0</td>\n",
              "      <td>0</td>\n",
              "      <td>1</td>\n",
              "      <td>0</td>\n",
              "      <td>0</td>\n",
              "      <td>0</td>\n",
              "      <td>0</td>\n",
              "      <td>0</td>\n",
              "      <td>0</td>\n",
              "      <td>0</td>\n",
              "      <td>0</td>\n",
              "      <td>0</td>\n",
              "      <td>0</td>\n",
              "      <td>1</td>\n",
              "      <td>0</td>\n",
              "      <td>0</td>\n",
              "      <td>0</td>\n",
              "      <td>0</td>\n",
              "      <td>0</td>\n",
              "      <td>0</td>\n",
              "    </tr>\n",
              "    <tr>\n",
              "      <th>3</th>\n",
              "      <td>3</td>\n",
              "      <td>Graduate Studies Program - Data Scientist</td>\n",
              "      <td>https://www.indeed.com/rc/clk?jk=1cfdd9e391a63...</td>\n",
              "      <td>&lt;80000</td>\n",
              "      <td>data_scientist</td>\n",
              "      <td>['Certified Internal Auditor']</td>\n",
              "      <td>1</td>\n",
              "      <td>Central Intelligence Agency</td>\n",
              "      <td>158.0</td>\n",
              "      <td>4.3</td>\n",
              "      <td>30.0</td>\n",
              "      <td>[&lt;p&gt;Full time&lt;/p&gt;, &lt;p&gt;Washington, DC metro are...</td>\n",
              "      <td>DC</td>\n",
              "      <td>NaN</td>\n",
              "      <td>NaN</td>\n",
              "      <td>Government</td>\n",
              "      <td>0</td>\n",
              "      <td>0</td>\n",
              "      <td>0</td>\n",
              "      <td>0</td>\n",
              "      <td>0</td>\n",
              "      <td>0</td>\n",
              "      <td>0</td>\n",
              "      <td>0</td>\n",
              "      <td>0</td>\n",
              "      <td>1</td>\n",
              "      <td>0</td>\n",
              "      <td>0</td>\n",
              "      <td>0</td>\n",
              "      <td>0</td>\n",
              "      <td>0</td>\n",
              "      <td>0</td>\n",
              "      <td>0</td>\n",
              "      <td>0</td>\n",
              "      <td>1</td>\n",
              "      <td>0</td>\n",
              "      <td>0</td>\n",
              "      <td>0</td>\n",
              "      <td>0</td>\n",
              "      <td>0</td>\n",
              "      <td>0</td>\n",
              "      <td>0</td>\n",
              "      <td>1</td>\n",
              "    </tr>\n",
              "    <tr>\n",
              "      <th>4</th>\n",
              "      <td>4</td>\n",
              "      <td>Data Scientist I</td>\n",
              "      <td>https://www.indeed.com/rc/clk?jk=fec647775a21e...</td>\n",
              "      <td>&lt;80000</td>\n",
              "      <td>data_scientist</td>\n",
              "      <td>['Statistical Software', 'Time Management', 'R...</td>\n",
              "      <td>7</td>\n",
              "      <td>Federal Reserve Bank of Dallas</td>\n",
              "      <td>495.0</td>\n",
              "      <td>4.1</td>\n",
              "      <td>30.0</td>\n",
              "      <td>[&lt;ul&gt;&lt;li&gt;Assist in consultations with business...</td>\n",
              "      <td>TX</td>\n",
              "      <td>NaN</td>\n",
              "      <td>Less than 10,000</td>\n",
              "      <td>Banks and Financial Services</td>\n",
              "      <td>0</td>\n",
              "      <td>0</td>\n",
              "      <td>0</td>\n",
              "      <td>1</td>\n",
              "      <td>0</td>\n",
              "      <td>1</td>\n",
              "      <td>0</td>\n",
              "      <td>0</td>\n",
              "      <td>0</td>\n",
              "      <td>1</td>\n",
              "      <td>0</td>\n",
              "      <td>0</td>\n",
              "      <td>0</td>\n",
              "      <td>1</td>\n",
              "      <td>0</td>\n",
              "      <td>0</td>\n",
              "      <td>0</td>\n",
              "      <td>0</td>\n",
              "      <td>0</td>\n",
              "      <td>0</td>\n",
              "      <td>0</td>\n",
              "      <td>0</td>\n",
              "      <td>0</td>\n",
              "      <td>1</td>\n",
              "      <td>0</td>\n",
              "      <td>0</td>\n",
              "      <td>0</td>\n",
              "    </tr>\n",
              "  </tbody>\n",
              "</table>\n",
              "</div>"
            ],
            "text/plain": [
              "   Unnamed: 0  ... Other_industries\n",
              "0           0  ...                0\n",
              "1           1  ...                0\n",
              "2           2  ...                0\n",
              "3           3  ...                1\n",
              "4           4  ...                0\n",
              "\n",
              "[5 rows x 43 columns]"
            ]
          },
          "metadata": {
            "tags": []
          },
          "execution_count": 10
        }
      ],
      "metadata": {
        "colab": {
          "base_uri": "https://localhost:8080/",
          "height": 581
        },
        "id": "jNbhuD-E9Y7-",
        "outputId": "e81c95b3-d097-4fe2-9116-c2b85656d6b3"
      }
    },
    {
      "cell_type": "code",
      "execution_count": null,
      "source": [
        "data[\"id_val\"] = [val for val in data[\"Unnamed: 0\"]]\n",
        "data = data.drop(\"Unnamed: 0\", 1)"
      ],
      "outputs": [],
      "metadata": {
        "id": "OzDXZcuaE03S"
      }
    },
    {
      "cell_type": "code",
      "execution_count": null,
      "source": [
        "data[\"id\"]"
      ],
      "outputs": [
        {
          "output_type": "execute_result",
          "data": {
            "text/plain": [
              "0          0\n",
              "1          1\n",
              "2          2\n",
              "3          3\n",
              "4          4\n",
              "        ... \n",
              "5710    5710\n",
              "5711    5711\n",
              "5712    5712\n",
              "5713    5713\n",
              "5714    5714\n",
              "Name: id, Length: 5715, dtype: int64"
            ]
          },
          "metadata": {
            "tags": []
          },
          "execution_count": 32
        }
      ],
      "metadata": {
        "colab": {
          "base_uri": "https://localhost:8080/"
        },
        "id": "_VkOGgckFHsw",
        "outputId": "e478884c-da83-4d87-ea7c-84793f32adac"
      }
    },
    {
      "cell_type": "code",
      "execution_count": null,
      "source": [
        "data.head()"
      ],
      "outputs": [
        {
          "output_type": "execute_result",
          "data": {
            "text/html": [
              "<div>\n",
              "<style scoped>\n",
              "    .dataframe tbody tr th:only-of-type {\n",
              "        vertical-align: middle;\n",
              "    }\n",
              "\n",
              "    .dataframe tbody tr th {\n",
              "        vertical-align: top;\n",
              "    }\n",
              "\n",
              "    .dataframe thead th {\n",
              "        text-align: right;\n",
              "    }\n",
              "</style>\n",
              "<table border=\"1\" class=\"dataframe\">\n",
              "  <thead>\n",
              "    <tr style=\"text-align: right;\">\n",
              "      <th></th>\n",
              "      <th>Job_Title</th>\n",
              "      <th>Link</th>\n",
              "      <th>Queried_Salary</th>\n",
              "      <th>Job_Type</th>\n",
              "      <th>Skill</th>\n",
              "      <th>No_of_Skills</th>\n",
              "      <th>Company</th>\n",
              "      <th>No_of_Reviews</th>\n",
              "      <th>No_of_Stars</th>\n",
              "      <th>Date_Since_Posted</th>\n",
              "      <th>Description</th>\n",
              "      <th>Location</th>\n",
              "      <th>Company_Revenue</th>\n",
              "      <th>Company_Employees</th>\n",
              "      <th>Company_Industry</th>\n",
              "      <th>python</th>\n",
              "      <th>sql</th>\n",
              "      <th>machine learning</th>\n",
              "      <th>r</th>\n",
              "      <th>hadoop</th>\n",
              "      <th>tableau</th>\n",
              "      <th>sas</th>\n",
              "      <th>spark</th>\n",
              "      <th>java</th>\n",
              "      <th>Others</th>\n",
              "      <th>CA</th>\n",
              "      <th>NY</th>\n",
              "      <th>VA</th>\n",
              "      <th>TX</th>\n",
              "      <th>MA</th>\n",
              "      <th>IL</th>\n",
              "      <th>WA</th>\n",
              "      <th>MD</th>\n",
              "      <th>DC</th>\n",
              "      <th>NC</th>\n",
              "      <th>Other_states</th>\n",
              "      <th>Consulting and Business Services</th>\n",
              "      <th>Internet and Software</th>\n",
              "      <th>Banks and Financial Services</th>\n",
              "      <th>Health Care</th>\n",
              "      <th>Insurance</th>\n",
              "      <th>Other_industries</th>\n",
              "      <th>id</th>\n",
              "      <th>id_val</th>\n",
              "    </tr>\n",
              "  </thead>\n",
              "  <tbody>\n",
              "    <tr>\n",
              "      <th>0</th>\n",
              "      <td>Data Scientist</td>\n",
              "      <td>https://www.indeed.com/rc/clk?jk=6a105f495c36a...</td>\n",
              "      <td>&lt;80000</td>\n",
              "      <td>data_scientist</td>\n",
              "      <td>['SAP', 'SQL']</td>\n",
              "      <td>2</td>\n",
              "      <td>Express Scripts</td>\n",
              "      <td>3301.0</td>\n",
              "      <td>3.3</td>\n",
              "      <td>1.0</td>\n",
              "      <td>[&lt;p&gt;&lt;b&gt;POSITION SUMMARY&lt;/b&gt;&lt;/p&gt;, &lt;p&gt;\\r\\r\\nThe ...</td>\n",
              "      <td>MO</td>\n",
              "      <td>More than $10B (USD)</td>\n",
              "      <td>10,000+</td>\n",
              "      <td>Health Care</td>\n",
              "      <td>0</td>\n",
              "      <td>1</td>\n",
              "      <td>0</td>\n",
              "      <td>0</td>\n",
              "      <td>0</td>\n",
              "      <td>0</td>\n",
              "      <td>0</td>\n",
              "      <td>0</td>\n",
              "      <td>0</td>\n",
              "      <td>1</td>\n",
              "      <td>0</td>\n",
              "      <td>0</td>\n",
              "      <td>0</td>\n",
              "      <td>0</td>\n",
              "      <td>0</td>\n",
              "      <td>0</td>\n",
              "      <td>0</td>\n",
              "      <td>0</td>\n",
              "      <td>0</td>\n",
              "      <td>0</td>\n",
              "      <td>1</td>\n",
              "      <td>0</td>\n",
              "      <td>0</td>\n",
              "      <td>0</td>\n",
              "      <td>1</td>\n",
              "      <td>0</td>\n",
              "      <td>0</td>\n",
              "      <td>0</td>\n",
              "      <td>0</td>\n",
              "    </tr>\n",
              "    <tr>\n",
              "      <th>1</th>\n",
              "      <td>Data Scientist</td>\n",
              "      <td>https://www.indeed.com/rc/clk?jk=86afd561ea8c6...</td>\n",
              "      <td>&lt;80000</td>\n",
              "      <td>data_scientist</td>\n",
              "      <td>['Machine Learning', 'R', 'SAS', 'SQL', 'Python']</td>\n",
              "      <td>5</td>\n",
              "      <td>Money Mart Financial Services</td>\n",
              "      <td>NaN</td>\n",
              "      <td>NaN</td>\n",
              "      <td>15.0</td>\n",
              "      <td>[&lt;p&gt;&lt;b&gt;What do we need?&lt;/b&gt;&lt;/p&gt;, &lt;ul&gt;&lt;li&gt;\\r\\r\\...</td>\n",
              "      <td>TX</td>\n",
              "      <td>NaN</td>\n",
              "      <td>NaN</td>\n",
              "      <td>NaN</td>\n",
              "      <td>1</td>\n",
              "      <td>1</td>\n",
              "      <td>1</td>\n",
              "      <td>1</td>\n",
              "      <td>0</td>\n",
              "      <td>0</td>\n",
              "      <td>1</td>\n",
              "      <td>0</td>\n",
              "      <td>0</td>\n",
              "      <td>0</td>\n",
              "      <td>0</td>\n",
              "      <td>0</td>\n",
              "      <td>0</td>\n",
              "      <td>1</td>\n",
              "      <td>0</td>\n",
              "      <td>0</td>\n",
              "      <td>0</td>\n",
              "      <td>0</td>\n",
              "      <td>0</td>\n",
              "      <td>0</td>\n",
              "      <td>0</td>\n",
              "      <td>0</td>\n",
              "      <td>0</td>\n",
              "      <td>0</td>\n",
              "      <td>0</td>\n",
              "      <td>0</td>\n",
              "      <td>0</td>\n",
              "      <td>1</td>\n",
              "      <td>1</td>\n",
              "    </tr>\n",
              "    <tr>\n",
              "      <th>2</th>\n",
              "      <td>Data Scientist</td>\n",
              "      <td>https://www.indeed.com/rc/clk?jk=e0aad317e6d45...</td>\n",
              "      <td>&lt;80000</td>\n",
              "      <td>data_scientist</td>\n",
              "      <td>['Data Mining', 'Data Management', 'R', 'SAS',...</td>\n",
              "      <td>9</td>\n",
              "      <td>comScore</td>\n",
              "      <td>62.0</td>\n",
              "      <td>3.5</td>\n",
              "      <td>1.0</td>\n",
              "      <td>[&lt;ul&gt;&lt;li&gt;Validate, analyze, and conduct statis...</td>\n",
              "      <td>OR</td>\n",
              "      <td>NaN</td>\n",
              "      <td>NaN</td>\n",
              "      <td>NaN</td>\n",
              "      <td>1</td>\n",
              "      <td>1</td>\n",
              "      <td>0</td>\n",
              "      <td>1</td>\n",
              "      <td>0</td>\n",
              "      <td>0</td>\n",
              "      <td>1</td>\n",
              "      <td>0</td>\n",
              "      <td>0</td>\n",
              "      <td>1</td>\n",
              "      <td>0</td>\n",
              "      <td>0</td>\n",
              "      <td>0</td>\n",
              "      <td>0</td>\n",
              "      <td>0</td>\n",
              "      <td>0</td>\n",
              "      <td>0</td>\n",
              "      <td>0</td>\n",
              "      <td>0</td>\n",
              "      <td>0</td>\n",
              "      <td>1</td>\n",
              "      <td>0</td>\n",
              "      <td>0</td>\n",
              "      <td>0</td>\n",
              "      <td>0</td>\n",
              "      <td>0</td>\n",
              "      <td>0</td>\n",
              "      <td>2</td>\n",
              "      <td>2</td>\n",
              "    </tr>\n",
              "    <tr>\n",
              "      <th>3</th>\n",
              "      <td>Graduate Studies Program - Data Scientist</td>\n",
              "      <td>https://www.indeed.com/rc/clk?jk=1cfdd9e391a63...</td>\n",
              "      <td>&lt;80000</td>\n",
              "      <td>data_scientist</td>\n",
              "      <td>['Certified Internal Auditor']</td>\n",
              "      <td>1</td>\n",
              "      <td>Central Intelligence Agency</td>\n",
              "      <td>158.0</td>\n",
              "      <td>4.3</td>\n",
              "      <td>30.0</td>\n",
              "      <td>[&lt;p&gt;Full time&lt;/p&gt;, &lt;p&gt;Washington, DC metro are...</td>\n",
              "      <td>DC</td>\n",
              "      <td>NaN</td>\n",
              "      <td>NaN</td>\n",
              "      <td>Government</td>\n",
              "      <td>0</td>\n",
              "      <td>0</td>\n",
              "      <td>0</td>\n",
              "      <td>0</td>\n",
              "      <td>0</td>\n",
              "      <td>0</td>\n",
              "      <td>0</td>\n",
              "      <td>0</td>\n",
              "      <td>0</td>\n",
              "      <td>1</td>\n",
              "      <td>0</td>\n",
              "      <td>0</td>\n",
              "      <td>0</td>\n",
              "      <td>0</td>\n",
              "      <td>0</td>\n",
              "      <td>0</td>\n",
              "      <td>0</td>\n",
              "      <td>0</td>\n",
              "      <td>1</td>\n",
              "      <td>0</td>\n",
              "      <td>0</td>\n",
              "      <td>0</td>\n",
              "      <td>0</td>\n",
              "      <td>0</td>\n",
              "      <td>0</td>\n",
              "      <td>0</td>\n",
              "      <td>1</td>\n",
              "      <td>3</td>\n",
              "      <td>3</td>\n",
              "    </tr>\n",
              "    <tr>\n",
              "      <th>4</th>\n",
              "      <td>Data Scientist I</td>\n",
              "      <td>https://www.indeed.com/rc/clk?jk=fec647775a21e...</td>\n",
              "      <td>&lt;80000</td>\n",
              "      <td>data_scientist</td>\n",
              "      <td>['Statistical Software', 'Time Management', 'R...</td>\n",
              "      <td>7</td>\n",
              "      <td>Federal Reserve Bank of Dallas</td>\n",
              "      <td>495.0</td>\n",
              "      <td>4.1</td>\n",
              "      <td>30.0</td>\n",
              "      <td>[&lt;ul&gt;&lt;li&gt;Assist in consultations with business...</td>\n",
              "      <td>TX</td>\n",
              "      <td>NaN</td>\n",
              "      <td>Less than 10,000</td>\n",
              "      <td>Banks and Financial Services</td>\n",
              "      <td>0</td>\n",
              "      <td>0</td>\n",
              "      <td>0</td>\n",
              "      <td>1</td>\n",
              "      <td>0</td>\n",
              "      <td>1</td>\n",
              "      <td>0</td>\n",
              "      <td>0</td>\n",
              "      <td>0</td>\n",
              "      <td>1</td>\n",
              "      <td>0</td>\n",
              "      <td>0</td>\n",
              "      <td>0</td>\n",
              "      <td>1</td>\n",
              "      <td>0</td>\n",
              "      <td>0</td>\n",
              "      <td>0</td>\n",
              "      <td>0</td>\n",
              "      <td>0</td>\n",
              "      <td>0</td>\n",
              "      <td>0</td>\n",
              "      <td>0</td>\n",
              "      <td>0</td>\n",
              "      <td>1</td>\n",
              "      <td>0</td>\n",
              "      <td>0</td>\n",
              "      <td>0</td>\n",
              "      <td>4</td>\n",
              "      <td>4</td>\n",
              "    </tr>\n",
              "  </tbody>\n",
              "</table>\n",
              "</div>"
            ],
            "text/plain": [
              "                                   Job_Title  ... id_val\n",
              "0                             Data Scientist  ...      0\n",
              "1                             Data Scientist  ...      1\n",
              "2                             Data Scientist  ...      2\n",
              "3  Graduate Studies Program - Data Scientist  ...      3\n",
              "4                           Data Scientist I  ...      4\n",
              "\n",
              "[5 rows x 44 columns]"
            ]
          },
          "metadata": {
            "tags": []
          },
          "execution_count": 20
        }
      ],
      "metadata": {
        "colab": {
          "base_uri": "https://localhost:8080/",
          "height": 581
        },
        "id": "i3TK3-dK5Kp0",
        "outputId": "0d0b6a7a-8456-4f7e-f93c-3d50f47da7f5"
      }
    },
    {
      "cell_type": "code",
      "execution_count": null,
      "source": [
        "data[\"Link\"] = [\"No Link\" if type(i) != str else i for i in data[\"Link\"]]\n",
        "data[\"No_of_Skills\"] = [int(i) for i in data[\"No_of_Skills\"]]\n",
        "data[\"No_of_Reviews\"] = [float(i) for i in data[\"No_of_Reviews\"]]\n",
        "data[\"No_of_Stars\"] = [int(i) for i in data[\"No_of_Stars\"]]"
      ],
      "outputs": [],
      "metadata": {
        "id": "wnVjTUxPEnCS"
      }
    },
    {
      "cell_type": "code",
      "execution_count": null,
      "source": [
        "conn.upsertVertexDataFrame(data, \"Job_Option\", \"id\", attributes={\"job_id\": \"id\", \"job_link\": \"Link\", \"num_skills\": \"No_of_Skills\", \"num_reviews\": \"No_of_Reviews\", \"num_stars\": \"No_of_Stars\"})"
      ],
      "outputs": [],
      "metadata": {
        "id": "AmMz8mcfEXsU"
      }
    },
    {
      "cell_type": "code",
      "execution_count": null,
      "source": [
        "data[\"Company\"] = [\"No Company Found\" if type(i) != str else i for i in data[\"Company\"]]"
      ],
      "outputs": [],
      "metadata": {
        "id": "t3TqX9mqGyHD"
      }
    },
    {
      "cell_type": "code",
      "execution_count": null,
      "source": [
        "conn.upsertVertexDataFrame(data, \"Job_Type\", \"Job_Type\", attributes={\"job_type_id\": \"Job_Type\"})\n",
        "conn.upsertVertexDataFrame(data, \"Job_Title\", \"Job_Title\", attributes={\"job_title_id\": \"Job_Title\"})\n",
        "conn.upsertVertexDataFrame(data, \"Salary_Range\", \"Queried_Salary\", attributes={\"salary_range\": \"Queried_Salary\"})\n",
        "conn.upsertVertexDataFrame(data, \"Company\", \"Company\", attributes={\"company_name\": \"Company\"})\n",
        "\n",
        "conn.upsertEdgeDataFrame(data, \"Job_Option\", \"JOB_OPTION_SALARY_RANGE\", \"Salary_Range\", \"Job_Type\", \"Queried_Salary\", attributes={})\n",
        "conn.upsertEdgeDataFrame(data, \"Job_Option\", \"JOB_OPTION_COMPANY\", \"Company\", \"Job_Type\", \"Job_Title\", attributes={})\n",
        "conn.upsertEdgeDataFrame(data, \"Job_Type\", \"JOB_TYPE_JOB_TITLE\", \"Job_Title\", \"Job_Type\", \"Job_Title\", attributes={})\n",
        "conn.upsertEdgeDataFrame(data, \"Job_Option\", \"JOB_OPTION_JOB_TITLE\", \"Job_Title\", \"id\", \"Job_Title\", attributes={})\n",
        "conn.upsertEdgeDataFrame(data, \"Job_Option\", \"JOB_OPTION_JOB_TYPE\", \"Job_Type\", \"id\", \"Job_Type\", attributes={})"
      ],
      "outputs": [
        {
          "output_type": "execute_result",
          "data": {
            "text/plain": [
              "5715"
            ]
          },
          "metadata": {
            "tags": []
          },
          "execution_count": 91
        }
      ],
      "metadata": {
        "colab": {
          "base_uri": "https://localhost:8080/"
        },
        "id": "ulhak-BY5Rl5",
        "outputId": "1b57cb4a-9e97-4be8-c02f-9ae9a54e171f"
      }
    },
    {
      "cell_type": "code",
      "execution_count": null,
      "source": [
        "for job in range(len(data[\"Skill\"])):\n",
        "  if type(data[\"Skill\"][job]) == str:\n",
        "      for skill in eval(data[\"Skill\"][job]):\n",
        "          conn.upsertVertex(\"Skill\", skill, attributes={\"skill\": skill})\n",
        "          conn.upsertEdge(\"Job_Option\", job, \"JOB_OPTION_SKILL\", \"Skill\", skill)"
      ],
      "outputs": [],
      "metadata": {
        "id": "sVP-QbUC-gIc"
      }
    },
    {
      "cell_type": "markdown",
      "source": [
        "## Query the Graph"
      ],
      "metadata": {
        "id": "MaES0YLiHNhD"
      }
    },
    {
      "cell_type": "code",
      "execution_count": null,
      "source": [
        "conn.gsql('''\n",
        "USE GRAPH JobGraph\n",
        "\n",
        "DROP QUERY topSkills\n",
        "\n",
        "CREATE QUERY topSkills () FOR GRAPH JobGraph {\n",
        "  SumAccum<INT> @connectedJobs;\n",
        "\n",
        "  Seed = {Job_Option.*};\n",
        "\n",
        "  Res = SELECT tgt FROM Seed:s - (JOB_OPTION_SKILL:e) - Skill:tgt\n",
        "        ACCUM tgt.@connectedJobs+=1\n",
        "        ORDER BY tgt.@connectedJobs DESC\n",
        "        LIMIT 5;\n",
        "\n",
        "  PRINT Res;\n",
        "}\n",
        "\n",
        "INSTALL QUERY topSkills\n",
        "''')"
      ],
      "outputs": [
        {
          "output_type": "stream",
          "name": "stdout",
          "text": [
            "\r[                                                                                     ] 0% (0/1)\n",
            "\r[                                                                                     ] 0% (0/1)\n",
            "\r[========================================                                             ] 47% (0/1)\n",
            "\r[=================================================================================    ] 95% (0/1)\n",
            "\r[=====================================================================================] 100% (1/1)\n",
            "\n"
          ]
        },
        {
          "output_type": "execute_result",
          "data": {
            "application/vnd.google.colaboratory.intrinsic+json": {
              "type": "string"
            },
            "text/plain": [
              "'Using graph \\'JobGraph\\'\\nThe query topSkills is dropped.\\nThe query topSkills has been added!\\nStart installing queries, about 1 minute ...\\ntopSkills query: curl -X GET \\'https://127.0.0.1:9000/query/JobGraph/topSkills\\'. Add -H \"Authorization: Bearer TOKEN\" if authentication is enabled.\\n'"
            ]
          },
          "metadata": {
            "tags": []
          },
          "execution_count": 98
        }
      ],
      "metadata": {
        "colab": {
          "base_uri": "https://localhost:8080/",
          "height": 154
        },
        "id": "w19RSFOmHVii",
        "outputId": "57f7b56e-13aa-4711-e5ff-b5d54869948b"
      }
    },
    {
      "cell_type": "code",
      "execution_count": null,
      "source": [
        "conn.runInstalledQuery(\"topSkills\")"
      ],
      "outputs": [],
      "metadata": {
        "id": "eiPVmv0hIsxv"
      }
    },
    {
      "cell_type": "code",
      "execution_count": null,
      "source": [
        "conn.gsql('''\n",
        "USE GRAPH JobGraph\n",
        "\n",
        "DROP QUERY topSkillsPerSalaryRange\n",
        "\n",
        "CREATE QUERY topSkillsPerSalaryRange(Vertex<Salary_Range> salaryRange) FOR GRAPH JobGraph {\n",
        "  SumAccum<INT> @connectedJobs;\n",
        "\n",
        "  Seed = {salaryRange};\n",
        "  \n",
        "  Jobs = SELECT tgt FROM Seed:s - (JOB_OPTION_SALARY_RANGE:e) - Job_Option:tgt;\n",
        "\n",
        "  Res = SELECT tgt FROM Jobs:s - (JOB_OPTION_SKILL:e) - Skill:tgt\n",
        "        ACCUM tgt.@connectedJobs+=1\n",
        "        ORDER BY tgt.@connectedJobs\n",
        "        LIMIT 5;\n",
        "\n",
        "  PRINT Res;\n",
        "}\n",
        "\n",
        "INSTALL QUERY topSkillsPerSalaryRange\n",
        "''')"
      ],
      "outputs": [
        {
          "output_type": "stream",
          "name": "stdout",
          "text": [
            "\r[                                                                                     ] 0% (0/1)\n",
            "\r[                                                                                     ] 0% (0/1)\n",
            "\r[========================================                                             ] 47% (0/1)\n",
            "\r[=================================================================================    ] 95% (0/1)\n",
            "\r[=====================================================================================] 100% (1/1)\n",
            "\n"
          ]
        },
        {
          "output_type": "execute_result",
          "data": {
            "application/vnd.google.colaboratory.intrinsic+json": {
              "type": "string"
            },
            "text/plain": [
              "'Using graph \\'JobGraph\\'\\nQuery topSkillsPerSalaryRange could not be found.\\nThe query topSkillsPerSalaryRange has been added!\\nStart installing queries, about 1 minute ...\\ntopSkillsPerSalaryRange query: curl -X GET \\'https://127.0.0.1:9000/query/JobGraph/topSkillsPerSalaryRange?salaryRange=VALUE\\'. Add -H \"Authorization: Bearer TOKEN\" if authentication is enabled.\\n'"
            ]
          },
          "metadata": {
            "tags": []
          },
          "execution_count": 97
        }
      ],
      "metadata": {
        "colab": {
          "base_uri": "https://localhost:8080/",
          "height": 171
        },
        "id": "yRWiCw1NIx7K",
        "outputId": "901ca4c9-1256-43f2-b291-947941c4f238"
      }
    },
    {
      "cell_type": "code",
      "execution_count": null,
      "source": [
        "conn.runInstalledQuery(\"topSkillsPerSalaryRange\", {\"salaryRange\": \"<80000\"})"
      ],
      "outputs": [
        {
          "output_type": "execute_result",
          "data": {
            "text/plain": [
              "[{'Res': []}]"
            ]
          },
          "metadata": {
            "tags": []
          },
          "execution_count": 102
        }
      ],
      "metadata": {
        "colab": {
          "base_uri": "https://localhost:8080/"
        },
        "id": "RKhGcCcyJkc1",
        "outputId": "aa75b78b-0f66-4d0d-ce90-933d78c87f6c"
      }
    },
    {
      "cell_type": "markdown",
      "source": [
        "# Congrats!"
      ],
      "metadata": {
        "id": "U18gVWiv-a7R"
      }
    },
    {
      "cell_type": "markdown",
      "source": [
        "Congrats! You've now created a job graph with TigerGraph and queried it to gain some insights!\n",
        "\n",
        "If you have any questions, feel free to ask in [the TigerGraph Discord](https://discord.gg/gRHWBZNpxW) or in [the Community Page](https://community.tigergraph.com/)."
      ],
      "metadata": {
        "id": "vRB2MJa_-dlm"
      }
    }
  ]
}